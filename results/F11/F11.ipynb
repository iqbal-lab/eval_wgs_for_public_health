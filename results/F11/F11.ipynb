{
 "metadata": {
  "name": "",
  "signature": "sha256:d2e25a55feeb7f8d7498a4d7492ab3e86912e05056b92b4f79b1777470d3c56d"
 },
 "nbformat": 3,
 "nbformat_minor": 0,
 "worksheets": [
  {
   "cells": [
    {
     "cell_type": "code",
     "collapsed": false,
     "input": [
      "import json\n",
      "import csv\n",
      "def load_json(f):\n",
      "    with open(f, 'r') as infile:\n",
      "        return json.load(infile)    "
     ],
     "language": "python",
     "metadata": {},
     "outputs": [],
     "prompt_number": 2
    },
    {
     "cell_type": "code",
     "collapsed": false,
     "input": [
      "with open(\"/home/phelimb/git/atlas-core-dev/example-data/in_silico_muts.json\", 'r') as infile:\n",
      "    data = json.load(infile)"
     ],
     "language": "python",
     "metadata": {},
     "outputs": [],
     "prompt_number": 3
    },
    {
     "cell_type": "code",
     "collapsed": false,
     "input": [
      "# ## Make inverse probes\n",
      "# for k,v in data.items():\n",
      "#     with open(\"/home/phelimb/git/ana/hackathon-march-16/insilico-muts/muts/%s.tsv\" % k, 'w') as outfile:\n",
      "#         writer = csv.writer(outfile, delimiter = \"\\t\")\n",
      "#         for pos,ref_alt in v.items():\n",
      "#             ref = ref_alt[0]\n",
      "#             alt = ref_alt[1]\n",
      "#             row = [\"ref\", str(int(pos)+1),  alt,ref, \"DNA\"]\n",
      "#             writer.writerow(row)\n"
     ],
     "language": "python",
     "metadata": {},
     "outputs": [],
     "prompt_number": 11
    },
    {
     "cell_type": "code",
     "collapsed": false,
     "input": [
      "d = load_json(\"/Net/fs1/home/phelimb/git/ana/hackathon-march-16/insilico-muts/genotype/07c90ee9-a404-4639-953c-735fa43adc4a.json\")"
     ],
     "language": "python",
     "metadata": {},
     "outputs": [],
     "prompt_number": 2
    },
    {
     "cell_type": "code",
     "collapsed": false,
     "input": [
      "for var, call in d.values()[0][\"variant_calls\"].items():\n",
      "    if sum(call[\"genotype\"]) > 0:\n",
      "        pass\n",
      "#         print var,call[\"genotype\"]"
     ],
     "language": "python",
     "metadata": {},
     "outputs": [],
     "prompt_number": 12
    },
    {
     "cell_type": "code",
     "collapsed": false,
     "input": [
      "for N in [82, 926, 8844, 87977]:\n",
      "    count=0\n",
      "    miss=0\n",
      "    filtered=0\n",
      "    d = load_json(\"/home/phelimb/git/ana/hackathon-march-16/insilico-muts/genotype/h37rv-192-%i.json\" % N)\n",
      "    for var, call in d.values()[0][\"variant_calls\"].items():\n",
      "        if sum(call[\"genotype\"]) > 0:\n",
      "            count+=1\n",
      "            if call[\"info\"][\"filter\"] != \"PASS\":\n",
      "#                 print call\n",
      "                filtered+=1\n",
      "        else:\n",
      "            miss+=1\n",
      "        \n",
      "        \n",
      "    print N, count,miss,filtered, (float(filtered)/ count)"
     ],
     "language": "python",
     "metadata": {},
     "outputs": [],
     "prompt_number": 10
    },
    {
     "cell_type": "code",
     "collapsed": false,
     "input": [
      "count=0\n",
      "miss=0\n",
      "d = load_json(\"/home/phelimb/git/ana/hackathon-march-16/insilico-muts/genotype/h37rv-192-82.json\")\n",
      "for var, call in d.values()[0][\"variant_calls\"].items():\n",
      "    print var,call[\"genotype\"]\n",
      "    if sum(call[\"genotype\"]) > 0:\n",
      "        count+=1\n",
      "        if call[\"info\"][\"filter\"] != \"PASS\":\n",
      "            print call\n",
      "    else:\n",
      "        miss+=1\n",
      "        \n",
      "        \n",
      "print count,miss"
     ],
     "language": "python",
     "metadata": {},
     "outputs": []
    }
   ],
   "metadata": {}
  }
 ]
}