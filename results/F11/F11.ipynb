{
 "metadata": {
  "name": "",
  "signature": "sha256:7f55b7d17a76e7cc0d5efb8a08111cef662179ce831b22d4e5931361e3f621fd"
 },
 "nbformat": 3,
 "nbformat_minor": 0,
 "worksheets": [
  {
   "cells": [
    {
     "cell_type": "code",
     "collapsed": false,
     "input": [
      "# import csv\n",
      "# from vcf.model import _Record as Record\n",
      "# from vcf.model import _Call as Call\n",
      "# from vcf.model import make_calldata_tuple \n",
      "# from collections import namedtuple\n",
      "# positions = []\n",
      "# records = {}\n",
      "\n",
      "# with open(\"/data2/users/ALL/HACKATHON/TB-F11/sarahcuration.txt\", \"r\") as infile:\n",
      "#     reader = csv.reader(infile, delimiter=\"\\t\")\n",
      "#     reader.next()\n",
      "#     reader.next()\n",
      "#     header = reader.next()\n",
      "#     print header\n",
      "#     for row in reader:\n",
      "#         pos = int(row[4])\n",
      "#         ref = row[6].upper()\n",
      "#         alt=row[3].upper()\n",
      "        \n",
      "#         if ref == \"DELETION\" or alt==\"DELETION\" or \"UNKNOWN\" in ref or \"unknown\" in ref:\n",
      "#             pass\n",
      "#         else:\n",
      "# #             print ref, pos, alt\n",
      "#             record = Record(\"H37RV\", pos, \"F11_%s\" % row[1], ref, [alt], 0, [], [], [], 0)\n",
      "#             records[pos] = {}\n",
      "#             records[pos][\"truth\"] = record\n",
      "#             positions.append(pos)\n",
      "\n"
     ],
     "language": "python",
     "metadata": {},
     "outputs": [],
     "prompt_number": 652
    },
    {
     "cell_type": "code",
     "collapsed": false,
     "input": [
      "import csv\n",
      "from vcf.model import _Record as Record\n",
      "from vcf.model import _Call as Call\n",
      "from vcf.model import make_calldata_tuple \n",
      "from collections import namedtuple\n",
      "positions = []\n",
      "records = {}\n",
      "\n",
      "f_truth = \"/home/phelimb/git/eval_wgs_for_public_health/sarah_curated_vcfallelicprimitives.vcf\"\n",
      "f_null=\"/Net/fs1/home/phelimb/git/eval_wgs_for_public_health/results/F11/nullarbor/SRR974838.vcf\"\n",
      "# f_cortex=\"/data2/users/ALL/HACKATHON/TESTS/CORTEX/ALL/ctxout2/SRR974838/vcfs/SRR974838_wk_flow_I_RefCC_FINALcombined_BC_calls_at_all_k.decomp.vcf\"\n",
      "f_cortex=\"/Net/fs1/home/phelimb/git/eval_wgs_for_public_health/results/F11/CORTEX/SRR974838.vcf\"\n",
      "f_phe = \"/home/phelimb/git/eval_wgs_for_public_health/results/F11/PHE/SRR974838.filtered.vcf\"\n",
      "f_compass = \"/data2/users/ALL/HACKATHON/TESTS/COMPASS/ALL/VCFs/f11_NC_18143_2.vcf.shrt\"\n",
      "def parse_calls(f, caller):\n",
      "    extra=[]\n",
      "    found=[]\n",
      "    VCF = open(f, 'r' )\n",
      "    vcf_reader = vcf.Reader(VCF)\n",
      "    for record in vcf_reader:\n",
      "        for call in record.samples:\n",
      "            if call[\"GT\"] in [\"1/1\",\"1\",1]:\n",
      "                if not record.FILTER:\n",
      "                    try:\n",
      "                        records[record.POS][caller] = record\n",
      "                    except KeyError:\n",
      "                        records[record.POS] = {}\n",
      "                        records[record.POS][caller] = record\n",
      "parse_calls(f_truth, \"truth\")                        \n",
      "parse_calls(f_null, \"nullarbor\")                        \n",
      "parse_calls(f_cortex, \"CORTEX\") \n",
      "parse_calls(f_phe, \"PHE\") \n",
      "parse_calls(f_compass, \"COMPASS\")"
     ],
     "language": "python",
     "metadata": {},
     "outputs": [],
     "prompt_number": 653
    },
    {
     "cell_type": "code",
     "collapsed": false,
     "input": [
      "def record_to_call(record):\n",
      "    if record is None:\n",
      "        return record\n",
      "    else:\n",
      "        return \"\".join([record.REF, str(record.POS), str(record.ALT[0])  ])\n",
      "    \n",
      "def checkEqual2(iterator):\n",
      "   return len(set(iterator)) <= 1"
     ],
     "language": "python",
     "metadata": {},
     "outputs": [],
     "prompt_number": 654
    },
    {
     "cell_type": "code",
     "collapsed": false,
     "input": [
      "import collections\n",
      "df=[]  \n",
      "df2=[]\n",
      "ordered_records = collections.OrderedDict(sorted(records.items()))\n",
      "for pos, _records in ordered_records.items():\n",
      "    truth_call = record_to_call(_records.get(\"truth\"))\n",
      "    row_long = [pos,str(truth_call)]\n",
      "    for method in [\"CORTEX\", \"nullarbor\", \"PHE\", \"COMPASS\"]:\n",
      "        method_call = record_to_call(_records.get(method))\n",
      "        if not truth_call and not method_call:\n",
      "            compare = \"TN\"\n",
      "        elif truth_call and truth_call == method_call:\n",
      "            compare = \"TP\"\n",
      "        elif truth_call is None and method_call:\n",
      "            compare = \"FP\"\n",
      "        elif truth_call  and method_call is None:\n",
      "            compare = \"FN\"\n",
      "        else:\n",
      "            compare = \"right_POS_WRONG_MUT\"\n",
      "        if truth_call is None:\n",
      "             truth_call_str = \".\"\n",
      "        else:\n",
      "            truth_call_str = truth_call\n",
      "        if method_call is None:\n",
      "            method_call_str = \".\"\n",
      "        else:\n",
      "            method_call_str = method_call\n",
      "        short_row = [pos,str(truth_call_str), str(method_call_str), compare, method]\n",
      "        df.append(short_row)\n",
      "        \n",
      "        row_long.append(str(method_call_str))\n",
      "    all_agree = checkEqual2(row_long[1:]) \n",
      "    df2.append(row_long + [all_agree])"
     ],
     "language": "python",
     "metadata": {},
     "outputs": [],
     "prompt_number": 655
    },
    {
     "cell_type": "code",
     "collapsed": false,
     "input": [
      "%load_ext rmagic"
     ],
     "language": "python",
     "metadata": {},
     "outputs": [
      {
       "output_type": "stream",
       "stream": "stdout",
       "text": [
        "The rmagic extension is already loaded. To reload it, use:\n",
        "  %reload_ext rmagic\n"
       ]
      }
     ],
     "prompt_number": 656
    },
    {
     "cell_type": "code",
     "collapsed": false,
     "input": [
      "%%R -i df\n",
      "df <- data.frame(df)\n",
      "colnames(df) <- c(\"pos\", \"truth\", \"caller\",  \"compare\", \"method\")"
     ],
     "language": "python",
     "metadata": {},
     "outputs": [],
     "prompt_number": 657
    },
    {
     "cell_type": "code",
     "collapsed": false,
     "input": [
      "%%R\n",
      "print(head(df))\n",
      "\n",
      "print(table(df[df$method == \"CORTEX\",]$compare))\n",
      "print(table(df[df$method == \"nullarbor\",]$compare))\n",
      "print(table(df[df$method == \"PHE\",]$compare))\n",
      "print(table(df[df$method == \"COMPASS\",]$compare))\n",
      "\n",
      "write.table(df, \"/home/phelimb/git/eval_wgs_for_public_health/results/F11/compare-F11-38_row_format.tsv\", quote = F, sep = \"\\t\",row.names = F)\n"
     ],
     "language": "python",
     "metadata": {},
     "outputs": [
      {
       "metadata": {},
       "output_type": "display_data",
       "text": [
        "   pos  truth caller compare    method\n",
        "1 1742 G1742A G1742A      TP    CORTEX\n",
        "2 1742 G1742A G1742A      TP nullarbor\n",
        "3 1742 G1742A G1742A      TP       PHE\n",
        "4 1742 G1742A G1742A      TP   COMPASS\n",
        "5 1977 A1977G A1977G      TP    CORTEX\n",
        "6 1977 A1977G A1977G      TP nullarbor\n",
        "\n",
        "                 FN                  FP right_POS_WRONG_MUT                  TN \n",
        "                359                  85                   1                  38 \n",
        "                 TP \n",
        "                653 \n",
        "\n",
        "                 FN                  FP right_POS_WRONG_MUT                  TN \n",
        "                259                  91                   0                  32 \n",
        "                 TP \n",
        "                754 \n",
        "\n",
        "                 FN                  FP right_POS_WRONG_MUT                  TN \n",
        "                226                  41                   0                  82 \n",
        "                 TP \n",
        "                787 \n",
        "\n",
        "                 FN                  FP right_POS_WRONG_MUT                  TN \n",
        "                312                  28                   0                  95 \n",
        "                 TP \n",
        "                701 \n"
       ]
      }
     ],
     "prompt_number": 658
    },
    {
     "cell_type": "code",
     "collapsed": false,
     "input": [
      "%%R -i df2\n",
      "df2 <- data.frame(df2)\n",
      "colnames(df2) <- c(\"pos\", \"truth\", \"CORTEX\", \"nullarbor\", \"PHE\", \"COMPASS\", \"ALL_AGREE\")\n",
      "print(head(df2, 20))\n",
      "write.table(df2, \"/home/phelimb/git/eval_wgs_for_public_health/results/F11/compare-F11-38_col_format.tsv\", quote = F, sep = \"\\t\", row.names = F)\n"
     ],
     "language": "python",
     "metadata": {},
     "outputs": [
      {
       "metadata": {},
       "output_type": "display_data",
       "text": [
        "     pos   truth  CORTEX nullarbor     PHE COMPASS ALL_AGREE\n",
        "1   1742  G1742A  G1742A    G1742A  G1742A  G1742A      True\n",
        "2   1977  A1977G  A1977G    A1977G  A1977G  A1977G      True\n",
        "3   4013  T4013C  T4013C    T4013C  T4013C  T4013C      True\n",
        "4   5520  C5520T  C5520T    C5520T  C5520T  C5520T      True\n",
        "5   7222  C7222T  C7222T    C7222T  C7222T  C7222T      True\n",
        "6   7362  G7362C  G7362C    G7362C  G7362C  G7362C      True\n",
        "7   7585  G7585C  G7585C    G7585C  G7585C  G7585C      True\n",
        "8   9304  G9304A  G9304A    G9304A  G9304A  G9304A      True\n",
        "9  11879 A11879G A11879G   A11879G A11879G A11879G      True\n",
        "10 14251 G14251A G14251A   G14251A G14251A G14251A      True\n",
        "11 15225 G15225A G15225A   G15225A G15225A G15225A      True\n",
        "12 21795 G21795A G21795A   G21795A G21795A G21795A      True\n",
        "13 26959 C26959G C26959G   C26959G C26959G C26959G      True\n",
        "14 33457 C33457T C33457T   C33457T C33457T C33457T      True\n",
        "15 33551 T33551G T33551G   T33551G T33551G T33551G      True\n",
        "16 34044 T34044C T34044C   T34044C T34044C T34044C      True\n",
        "17 37031 C37031G C37031G   C37031G C37031G C37031G      True\n",
        "18 41257 A41257G A41257G   A41257G A41257G A41257G      True\n",
        "19 42967 G42967C G42967C   G42967C G42967C G42967C      True\n",
        "20 47699 G47699A G47699A   G47699A G47699A G47699A      True\n"
       ]
      }
     ],
     "prompt_number": 659
    },
    {
     "cell_type": "code",
     "collapsed": false,
     "input": [],
     "language": "python",
     "metadata": {},
     "outputs": [],
     "prompt_number": 659
    },
    {
     "cell_type": "code",
     "collapsed": false,
     "input": [],
     "language": "python",
     "metadata": {},
     "outputs": [],
     "prompt_number": 659
    }
   ],
   "metadata": {}
  }
 ]
}